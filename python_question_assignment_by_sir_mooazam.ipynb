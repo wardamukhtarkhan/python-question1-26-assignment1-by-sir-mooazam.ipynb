{
  "cells": [
    {
      "cell_type": "code",
      "execution_count": null,
      "metadata": {
        "colab": {
          "base_uri": "https://localhost:8080/"
        },
        "id": "UznhHM1WGdJ1",
        "outputId": "c42ddd94-63ab-4781-e977-8dc44f9d6603"
      },
      "outputs": [
        {
          "name": "stdout",
          "output_type": "stream",
          "text": [
            "54321\n"
          ]
        }
      ],
      "source": [
        "# Q1) Write a program to reverse an integer in Python.\n",
        "num = 12345\n",
        "var = str(num)\n",
        "print(var[-1: :-1])"
      ]
    },
    {
      "cell_type": "code",
      "execution_count": null,
      "metadata": {
        "colab": {
          "base_uri": "https://localhost:8080/"
        },
        "id": "JkuT3GXsJlxr",
        "outputId": "4bc31f3a-1d60-4041-efd0-884243d22825"
      },
      "outputs": [
        {
          "name": "stdout",
          "output_type": "stream",
          "text": [
            "enter number153\n",
            "['1', '5', '3']\n",
            "[1, 5, 3]\n",
            "[1, 125, 27]\n",
            "153\n",
            "153 is an armstrong number\n"
          ]
        }
      ],
      "source": [
        "''' Q2) Write a program in Python to check whether an integer is Armstrong number\n",
        "or not.'''\n",
        "a = []\n",
        "b = input('enter number')\n",
        "for i in b:\n",
        "  a.append(i)\n",
        "print(a)\n",
        "\n",
        "c=[]\n",
        "for j in range(len(a)):\n",
        "  c.append(int(a[j]))\n",
        "print(c)\n",
        "\n",
        "d=[]\n",
        "for k in range(len(c)):\n",
        "  d.append(c[k]**3)\n",
        "print(d)\n",
        "\n",
        "final=sum(d)\n",
        "print(str(final))\n",
        "\n",
        "c=int(b)\n",
        "\n",
        "if (final==c):\n",
        "  print(b, \"is an armstrong number\")\n",
        "elif(final!=c):\n",
        "  print(b,\"is not an armstrong number\")\n",
        "else:\n",
        "  print(b, \"is wrong input\")\n",
        "\n",
        "# d[0]+d[1]+d[2]+................."
      ]
    },
    {
      "cell_type": "code",
      "execution_count": null,
      "metadata": {
        "id": "DEgqJfQnaeKw",
        "colab": {
          "base_uri": "https://localhost:8080/"
        },
        "outputId": "76c6ad15-3a5c-447d-fd5d-91c297c2c4be"
      },
      "outputs": [
        {
          "output_type": "stream",
          "name": "stdout",
          "text": [
            "Enter any number: 6\n",
            "6 is not a prime number\n"
          ]
        }
      ],
      "source": [
        "#Q3) Write a program in Python to check given number is prime or not.\n",
        "\n",
        "number = int(input(\"Enter any number: \"))\n",
        "\n",
        "# prime number is always greater than 1\n",
        "if number > 1:\n",
        "    for i in range(2, number):\n",
        "        if (number % i) == 0:\n",
        "            print(number, \"is not a prime number\")\n",
        "            break\n",
        "        else:\n",
        "            print(number, \"is a prime number\")\n",
        "            break\n",
        "\n",
        "# if the entered number is less than or equal to 1\n",
        "# then it is not prime number\n",
        "else:\n",
        "    print(number, \"is not a prime number\")"
      ]
    },
    {
      "cell_type": "code",
      "execution_count": null,
      "metadata": {
        "colab": {
          "base_uri": "https://localhost:8080/"
        },
        "id": "z2kmilQAyrqy",
        "outputId": "35dd8aaf-64e5-4343-f6df-8b4e3f6f6a2e"
      },
      "outputs": [
        {
          "output_type": "stream",
          "name": "stdout",
          "text": [
            "please give a number for fibonacci series : 5\n",
            "fibonacci series are : \n",
            "0\n",
            "1\n",
            "1\n",
            "2\n",
            "3\n"
          ]
        }
      ],
      "source": [
        "#Q4) Write a program in Python to print the Fibonacci series using iterative method.\n",
        "first,second=0,1\n",
        "n = int(input(\"please give a number for fibonacci series : \"))\n",
        "print(\"fibonacci series are : \")\n",
        "for i in range(0,n):\n",
        "    if i<=1:\n",
        "        result=i\n",
        "    else:\n",
        "      result = first + second;\n",
        "      first = second;\n",
        "      second = result;\n",
        "    print(result)"
      ]
    },
    {
      "cell_type": "code",
      "execution_count": null,
      "metadata": {
        "colab": {
          "base_uri": "https://localhost:8080/"
        },
        "id": "BWg_ALTH1TYS",
        "outputId": "4529ae3d-52b1-45a1-be65-ea4e0a030c52"
      },
      "outputs": [
        {
          "name": "stdout",
          "output_type": "stream",
          "text": [
            "Enter a string:madam\n",
            "The string is a palindrome\n"
          ]
        }
      ],
      "source": [
        "'''Q5) Write a program in Python to check whether a number is palindrome or not\n",
        "using iterative method.'''\n",
        "\n",
        "string=input((\"Enter a string:\"))\n",
        "if(string==string[::-1]):\n",
        "      print(\"The string is a palindrome\")\n",
        "else:\n",
        "      print(\"Not a palindrome\")"
      ]
    },
    {
      "cell_type": "code",
      "execution_count": null,
      "metadata": {
        "colab": {
          "base_uri": "https://localhost:8080/"
        },
        "id": "dx7zz69_1TPy",
        "outputId": "60604e2c-84aa-4ec8-95fa-536a3b66ac00"
      },
      "outputs": [
        {
          "name": "stdout",
          "output_type": "stream",
          "text": [
            "Enter first number: 10\n",
            "Enter second number: 15\n",
            "Enter third number: 18\n",
            "The largest number is 18.0\n"
          ]
        }
      ],
      "source": [
        "#Q6) Write a program in Python to find greatest among three integers.\n",
        "\n",
        "num1 = float(input(\"Enter first number: \"))\n",
        "num2 = float(input(\"Enter second number: \"))\n",
        "num3 = float(input(\"Enter third number: \"))\n",
        " \n",
        "if (num1 > num2) and (num1 > num3):\n",
        "   largest = num1\n",
        "elif (num2 > num1) and (num2 > num3):\n",
        "   largest = num2\n",
        "else:\n",
        "   largest = num3\n",
        " \n",
        "print(\"The largest number is\",largest)\n"
      ]
    },
    {
      "cell_type": "code",
      "execution_count": null,
      "metadata": {
        "colab": {
          "base_uri": "https://localhost:8080/"
        },
        "id": "GlqsWIZY1TF6",
        "outputId": "d95667b4-11d8-4121-ac2a-657cff9bbbd3"
      },
      "outputs": [
        {
          "name": "stdout",
          "output_type": "stream",
          "text": [
            "please give a number : 01010010\n",
            "num is binary\n"
          ]
        }
      ],
      "source": [
        "#Q7) Write a program in Python to check if a number is binary?\n",
        "\n",
        "num = int(input(\"please give a number : \"))\n",
        "while(num>0):\n",
        "    j=num%10\n",
        "    if j!=0 and j!=1:\n",
        "        print(\"num is not binary\")\n",
        "        break\n",
        "    num=num//10\n",
        "    if num==0:\n",
        "        print(\"num is binary\") \n"
      ]
    },
    {
      "cell_type": "code",
      "execution_count": null,
      "metadata": {
        "colab": {
          "base_uri": "https://localhost:8080/"
        },
        "id": "qx1u4jKL1SsS",
        "outputId": "31f57cdc-5fe2-4845-cb6c-056a14b72f9c"
      },
      "outputs": [
        {
          "name": "stdout",
          "output_type": "stream",
          "text": [
            "Enter number26758\n",
            "Sum of digits 28\n"
          ]
        }
      ],
      "source": [
        "#Q8) Write a program in Python to find sum of digits.\n",
        "\n",
        "n=int(input(\"Enter number\"))\n",
        "\n",
        "sum=0\n",
        "\n",
        "for digit in str(n):\n",
        "    sum=sum+int(digit)\n",
        "\n",
        "print(\"Sum of digits\",sum)\n"
      ]
    },
    {
      "cell_type": "code",
      "execution_count": null,
      "metadata": {
        "colab": {
          "base_uri": "https://localhost:8080/"
        },
        "id": "kxK2ot3l13LK",
        "outputId": "9f2377e8-3928-497e-de36-321f493e465c"
      },
      "outputs": [
        {
          "name": "stdout",
          "output_type": "stream",
          "text": [
            "Before swapping: \n",
            "Value of x :  4  and y :  6\n",
            "After swapping: \n",
            "Value of x :  6  and y :  4\n"
          ]
        }
      ],
      "source": [
        "#Q9) Write a program in Python to swap two numbers without using third variable?\n",
        "\n",
        "x = 4\n",
        "y = 6\n",
        " \n",
        "print (\"Before swapping: \")\n",
        "print(\"Value of x : \", x, \" and y : \", y)\n",
        " \n",
        "# code to swap 'x' and 'y'\n",
        "x, y = y, x\n",
        " \n",
        "print (\"After swapping: \")\n",
        "print(\"Value of x : \", x, \" and y : \", y)"
      ]
    },
    {
      "cell_type": "code",
      "execution_count": null,
      "metadata": {
        "colab": {
          "base_uri": "https://localhost:8080/"
        },
        "id": "pzjil8hK13H7",
        "outputId": "4bb91866-2c4a-4077-e553-7476e3f88ea1"
      },
      "outputs": [
        {
          "name": "stdout",
          "output_type": "stream",
          "text": [
            "please give first number a: 40\n",
            "please give second number b: 55\n",
            "After swapping\n",
            "value of a is :  55\n",
            "value of b is :  40\n"
          ]
        }
      ],
      "source": [
        "#Q10) Write a program in Python to swap two numbers using third variable?\n",
        "a = int(input(\"please give first number a: \"))\n",
        "b = int(input(\"please give second number b: \"))\n",
        "tempvar=a\n",
        "a=b\n",
        "b=tempvar\n",
        "print(\"After swapping\")\n",
        "print(\"value of a is : \", a)\n",
        "print(\"value of b is : \", b)"
      ]
    },
    {
      "cell_type": "code",
      "execution_count": null,
      "metadata": {
        "colab": {
          "base_uri": "https://localhost:8080/"
        },
        "id": "iFp_ezNG13Dj",
        "outputId": "a7b9ed11-e6c3-4638-c1d2-bbed95bc8d42"
      },
      "outputs": [
        {
          "name": "stdout",
          "output_type": "stream",
          "text": [
            "How many numbers: 6\n",
            "Enter number : 12\n",
            "Enter number : 15\n",
            "Enter number : 13\n",
            "Enter number : 23\n",
            "Enter number : 21\n",
            "Enter number : 19\n",
            "Average of  6  numbers is : 17.166666666666668\n"
          ]
        }
      ],
      "source": [
        "#Q11) Python Program to find the Average of numbers.\n",
        "\n",
        "num = int(input('How many numbers: '))\n",
        "total_sum = 0\n",
        "for n in range(num):\n",
        "    numbers = float(input('Enter number : '))\n",
        "    total_sum += numbers\n",
        "avg = total_sum/num\n",
        "print('Average of ', num, ' numbers is :', avg)"
      ]
    },
    {
      "cell_type": "code",
      "execution_count": null,
      "metadata": {
        "id": "qo-A8DBc13AK",
        "colab": {
          "base_uri": "https://localhost:8080/"
        },
        "outputId": "4545698c-02df-4337-988c-fea294a26de0"
      },
      "outputs": [
        {
          "output_type": "stream",
          "name": "stdout",
          "text": [
            "enter any number 4\n",
            "The factorial of 4 is 24\n"
          ]
        }
      ],
      "source": [
        "#Q12) Python Program to calculate factorial using iterative method.\n",
        "num = int(input('enter any number '))\n",
        "factorial = 1\n",
        "\n",
        "if num < 0:\n",
        "   print(\"Sorry, factorial does not exist for negative numbers\")\n",
        "elif num == 0:\n",
        "   print(\"The factorial of 0 is 1\")\n",
        "else:\n",
        "   for i in range(1,num + 1):\n",
        "       factorial = factorial*i\n",
        "   print(\"The factorial of\",num,\"is\",factorial)"
      ]
    },
    {
      "cell_type": "code",
      "execution_count": null,
      "metadata": {
        "colab": {
          "base_uri": "https://localhost:8080/"
        },
        "id": "d9hhu_uz128y",
        "outputId": "e39b109b-ba8a-4ad4-ac06-26f25066dd08"
      },
      "outputs": [
        {
          "name": "stdout",
          "output_type": "stream",
          "text": [
            "enter any number 4\n",
            "The factorial of 4 is 24\n"
          ]
        }
      ],
      "source": [
        "#Q13) Python Program to calculate factorial.\n",
        "num = int(input('enter any number '))\n",
        "factorial = 1\n",
        "\n",
        "if num < 0:\n",
        "   print(\"Sorry, factorial does not exist for negative numbers\")\n",
        "elif num == 0:\n",
        "   print(\"The factorial of 0 is 1\")\n",
        "else:\n",
        "   for i in range(1,num + 1):\n",
        "       factorial = factorial*i\n",
        "   print(\"The factorial of\",num,\"is\",factorial)"
      ]
    },
    {
      "cell_type": "code",
      "execution_count": null,
      "metadata": {
        "colab": {
          "base_uri": "https://localhost:8080/"
        },
        "id": "x6XTwUSZ12tr",
        "outputId": "75c7ccd8-297d-4160-8fd1-1acae576a348"
      },
      "outputs": [
        {
          "name": "stdout",
          "output_type": "stream",
          "text": [
            "enter any number:6\n",
            "number is even\n"
          ]
        }
      ],
      "source": [
        "#Q14) Python Program to check a given number is even or odd.\n",
        "num = int(input(\"enter any number:\"))\n",
        "if (num %2==0):\n",
        "  print('number is even')\n",
        "else:\n",
        "  print('number is odd')"
      ]
    },
    {
      "cell_type": "code",
      "source": [
        "#Q15) Python program to print first n Prime Number.\n",
        "\n",
        "numr=int(input(\"Enter range:\"))\n",
        "\n",
        "print(\"Prime numbers:\",end=' ')\n",
        "\n",
        "for n in range(1,numr):\n",
        "\n",
        "    for i in range(2,n):\n",
        "\n",
        "        if(n%i==0):\n",
        "\n",
        "            break\n",
        "\n",
        "    else:\n",
        "\n",
        "        print(n,end=' ')"
      ],
      "metadata": {
        "colab": {
          "base_uri": "https://localhost:8080/"
        },
        "id": "m6kQWhWFozA0",
        "outputId": "2121cef0-8084-4cd8-cdb1-3d4a88557d8d"
      },
      "execution_count": 1,
      "outputs": [
        {
          "output_type": "stream",
          "name": "stdout",
          "text": [
            "Enter range:20\n",
            "Prime numbers: 1 2 3 5 7 11 13 17 19 "
          ]
        }
      ]
    },
    {
      "cell_type": "code",
      "execution_count": null,
      "metadata": {
        "colab": {
          "background_save": true
        },
        "id": "8WmduW6112nK",
        "outputId": "964a5615-d786-45d2-a43c-3601ab95c656"
      },
      "outputs": [
        {
          "name": "stdout",
          "output_type": "stream",
          "text": [
            "2\n",
            "3\n",
            "5\n",
            "7\n",
            "11\n",
            "13\n"
          ]
        }
      ],
      "source": [
        "#Q16) Python Program to print Prime Number in a given range.\n",
        "\n",
        "min = int(input(\"Enter the min : \"))\n",
        "max = int(input(\"Enter the max : \"))\n",
        "for n in range(min,max + 1):\n",
        "   if n > 1:\n",
        "       for i in range(2,n):\n",
        "           if (n % i) == 0:\n",
        "               break\n",
        "       else:\n",
        "           print(n)"
      ]
    },
    {
      "cell_type": "code",
      "execution_count": null,
      "metadata": {
        "id": "cbtPN3mg12jq",
        "colab": {
          "base_uri": "https://localhost:8080/"
        },
        "outputId": "7af405ed-2a28-48f2-aa59-7cecc2ff3528"
      },
      "outputs": [
        {
          "output_type": "stream",
          "name": "stdout",
          "text": [
            "Enter first number  : 12\n",
            "Enter second number : 14\n",
            "Enter third number  : 18\n",
            "12 is the smallest of three numbers.\n"
          ]
        }
      ],
      "source": [
        "#Q17) Python Program to find Smallest number among three.\n",
        "\n",
        "a = int(input('Enter first number  : '))\n",
        "b = int(input('Enter second number : '))\n",
        "c = int(input('Enter third number  : '))\n",
        "\n",
        "smallest = 0\n",
        "\n",
        "if a < b and a < c :\n",
        "    smallest = a\n",
        "if b < a and b < c :\n",
        "    smallest = b\n",
        "if c < a and c < b :\n",
        "    smallest = c\n",
        "\n",
        "print(smallest, \"is the smallest of three numbers.\")"
      ]
    },
    {
      "cell_type": "code",
      "execution_count": null,
      "metadata": {
        "colab": {
          "base_uri": "https://localhost:8080/"
        },
        "id": "83wFL6r712bz",
        "outputId": "5254f40b-dff9-4d4b-86ac-f5dbd7cb6ce7"
      },
      "outputs": [
        {
          "output_type": "stream",
          "name": "stdout",
          "text": [
            "power result= 32.0\n"
          ]
        }
      ],
      "source": [
        "#Q18) Python program to calculate the power using the POW method.\n",
        "\n",
        "import math\n",
        "print(\"power result=\", math.pow(2,5))\n"
      ]
    },
    {
      "cell_type": "code",
      "execution_count": null,
      "metadata": {
        "colab": {
          "base_uri": "https://localhost:8080/"
        },
        "id": "yTO3aEBz12X6",
        "outputId": "f3cf688e-fdd8-4d38-b0ad-cfa2c4982a4a"
      },
      "outputs": [
        {
          "output_type": "stream",
          "name": "stdout",
          "text": [
            "enter any number10\n",
            "100\n"
          ]
        }
      ],
      "source": [
        "#Q19) Python Program to calculate the square of a given number.\n",
        "\n",
        "num = int(input(\"enter any number\"))\n",
        "print(num**2)\n"
      ]
    },
    {
      "cell_type": "code",
      "execution_count": null,
      "metadata": {
        "colab": {
          "base_uri": "https://localhost:8080/"
        },
        "id": "ac0LSDMi12Si",
        "outputId": "b9f1d193-db57-476f-f9c4-8c0a4e4a1e5e"
      },
      "outputs": [
        {
          "output_type": "stream",
          "name": "stdout",
          "text": [
            "enter any number6\n",
            "216\n"
          ]
        }
      ],
      "source": [
        "#Q20) Python Program to calculate the cube of a given number\n",
        "num = int(input(\"enter any number\"))\n",
        "print(num**3)"
      ]
    },
    {
      "cell_type": "code",
      "execution_count": null,
      "metadata": {
        "id": "agpogqzg12Mq",
        "colab": {
          "base_uri": "https://localhost:8080/"
        },
        "outputId": "407678e0-7945-4f00-f33d-be52f521cc8d"
      },
      "outputs": [
        {
          "output_type": "stream",
          "name": "stdout",
          "text": [
            "Enter a Number: 16\n",
            "Square Root = 4.0\n"
          ]
        }
      ],
      "source": [
        "#Q21) Python Program to calculate the square root of a given number.\n",
        "\n",
        "num = int(input(\"Enter a Number: \"))\n",
        "squareroot = num ** 0.5\n",
        "print(\"Square Root =\", squareroot)"
      ]
    },
    {
      "cell_type": "code",
      "execution_count": null,
      "metadata": {
        "id": "7yVO1sH-3DA5",
        "colab": {
          "base_uri": "https://localhost:8080/"
        },
        "outputId": "493b6caf-04a2-425c-c4d9-8dd9960b6d2d"
      },
      "outputs": [
        {
          "output_type": "stream",
          "name": "stdout",
          "text": [
            "Enter any decimal number: 12\n",
            "Equivalent Binary Number:  0b1100\n"
          ]
        }
      ],
      "source": [
        "#Q22) Python Program to Convert Decimal Number into Binary.\n",
        "\n",
        "# decimal number\n",
        "number = int(input(\"Enter any decimal number: \"))\n",
        "\n",
        "# print equivalent binary number\n",
        "print(\"Equivalent Binary Number: \", bin(number))"
      ]
    },
    {
      "cell_type": "code",
      "execution_count": null,
      "metadata": {
        "id": "8g0Dye8i3CzK",
        "colab": {
          "base_uri": "https://localhost:8080/"
        },
        "outputId": "a515ea62-1af7-4af4-b8d0-d41b71075ef1"
      },
      "outputs": [
        {
          "output_type": "stream",
          "name": "stdout",
          "text": [
            "Enter any decimal number: 10\n",
            "Equivalent Octal Number:  0o12\n"
          ]
        }
      ],
      "source": [
        "#Q23) Python Program to convert Decimal number to Octal number.\n",
        "\n",
        "# decimal number\n",
        "number = int(input(\"Enter any decimal number: \"))\n",
        "\n",
        "# print equivalent Octal number\n",
        "print(\"Equivalent Octal Number: \", oct(number))"
      ]
    },
    {
      "cell_type": "code",
      "execution_count": null,
      "metadata": {
        "id": "hHkBoRhs3Cm6",
        "colab": {
          "base_uri": "https://localhost:8080/"
        },
        "outputId": "f04e9bf1-f492-41fc-8fe0-325e0cc661ca"
      },
      "outputs": [
        {
          "output_type": "stream",
          "name": "stdout",
          "text": [
            "enter year:2012\n",
            "Leap Year\n"
          ]
        }
      ],
      "source": [
        "#Q24) Python Program to check the given year is a leap year or not.\n",
        "\n",
        "import calendar\n",
        "year = int(input('enter year:'))\n",
        "if calendar.isleap(year):\n",
        "  print(\"Leap Year\")\n",
        "else:\n",
        "  print(\"Not a Leap Year\")"
      ]
    },
    {
      "cell_type": "code",
      "execution_count": null,
      "metadata": {
        "id": "rQwdMM9j3CaK",
        "colab": {
          "base_uri": "https://localhost:8080/"
        },
        "outputId": "7e876d6a-c206-408d-eb96-af5b161a6a9f"
      },
      "outputs": [
        {
          "output_type": "stream",
          "name": "stdout",
          "text": [
            "Enter Temperature in Celsius: 25\n",
            "Equivalent Value in Fahrenheit =  77.0\n"
          ]
        }
      ],
      "source": [
        "#Q25) Python Program to convert Celsius to Fahrenheit.\n",
        "\n",
        "cel = float(input(\"Enter Temperature in Celsius: \"))\n",
        "\n",
        "fah = (cel*1.8)+32\n",
        "print(\"Equivalent Value in Fahrenheit = \", fah)"
      ]
    },
    {
      "cell_type": "code",
      "execution_count": null,
      "metadata": {
        "id": "2HIrKmQ_3Bop",
        "colab": {
          "base_uri": "https://localhost:8080/"
        },
        "outputId": "4e3a380e-2def-42fd-db5e-2a3fe1694400"
      },
      "outputs": [
        {
          "output_type": "stream",
          "name": "stdout",
          "text": [
            "Please enter temperature in fahrenheit:46\n",
            "Temperature in celsius:  7.777777777777778\n"
          ]
        }
      ],
      "source": [
        "#Q26) Python Program to convert Fahrenheit to Celsius.\n",
        "\n",
        "temperature = float(input(\"Please enter temperature in fahrenheit:\"))\n",
        "celsius = (temperature - 32) * 5 / 9\n",
        "print(\"Temperature in celsius: \" , celsius)"
      ]
    }
  ],
  "metadata": {
    "colab": {
      "name": "python question assignment by sir mooazam.ipynb",
      "provenance": []
    },
    "kernelspec": {
      "display_name": "Python 3",
      "name": "python3"
    },
    "language_info": {
      "name": "python"
    }
  },
  "nbformat": 4,
  "nbformat_minor": 0
}